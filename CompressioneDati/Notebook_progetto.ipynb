{
 "cells": [
  {
   "cell_type": "code",
   "execution_count": 10,
   "metadata": {},
   "outputs": [],
   "source": [
    "import sys\n",
    "import os\n",
    "import shutil\n",
    "import time\n",
    "import importlib"
   ]
  },
  {
   "cell_type": "code",
   "execution_count": 11,
   "metadata": {},
   "outputs": [],
   "source": [
    "import tensorflow as tf\n",
    "import numpy as np\n",
    "import pandas as pd\n",
    "import matplotlib.pyplot as plt"
   ]
  },
  {
   "cell_type": "code",
   "execution_count": 12,
   "metadata": {},
   "outputs": [],
   "source": [
    "from random import randint\n",
    "from types import SimpleNamespace"
   ]
  },
  {
   "cell_type": "code",
   "execution_count": 13,
   "metadata": {},
   "outputs": [],
   "source": [
    "from utils import image_utils\n",
    "from utils import network_utils\n",
    "from utils import compression_utils\n",
    "from utils import glob"
   ]
  },
  {
   "cell_type": "code",
   "execution_count": 14,
   "metadata": {},
   "outputs": [
    {
     "data": {
      "text/plain": [
       "<module 'utils.glob' from 'C:\\\\Users\\\\thefo\\\\CompressioneDati\\\\utils\\\\glob.py'>"
      ]
     },
     "execution_count": 14,
     "metadata": {},
     "output_type": "execute_result"
    }
   ],
   "source": [
    "# In caso di modifiche ai sorgenti \n",
    "importlib.reload(image_utils)\n",
    "importlib.reload(network_utils)\n",
    "importlib.reload(compression_utils)\n",
    "importlib.reload(glob)"
   ]
  },
  {
   "cell_type": "code",
   "execution_count": 15,
   "metadata": {},
   "outputs": [],
   "source": [
    "autoencoder = tf.keras.models.load_model('modello.h5')"
   ]
  },
  {
   "cell_type": "code",
   "execution_count": 16,
   "metadata": {},
   "outputs": [],
   "source": [
    "encoder, decoder = network_utils.get_trained_encoder_decoder(autoencoder, n_layers=6)"
   ]
  },
  {
   "cell_type": "code",
   "execution_count": 8,
   "metadata": {},
   "outputs": [
    {
     "name": "stdout",
     "output_type": "stream",
     "text": [
      "Elapsed: 0.01266018000000102\n",
      "Elapsed: 0.014450123999999676\n",
      "Metodo test_blocks, test_block.shape (36, 128, 128, 3)\n",
      "Elapsed: 0.003790650999999201\n",
      "Elapsed: 0.9231203019999992\n",
      "image_blocks_size 7077888 compressed_blocks_comp 1383614\n",
      "Elapsed: 1.065969366000001\n",
      "T elapsed = 0.0013565950000007376\n",
      "T elapsed = 0.0035855429999998023\n",
      "Fine calcolo errore T elapsed = 0.03465768000000047\n",
      "Shape important errors (164262, 5)\n",
      "[[ 2.34659314e-02  1.50492251e-01  9.35601294e-02  1.00000000e+00\n",
      "   5.10000000e+02]\n",
      " [ 2.94303894e-02  5.96402287e-02 -8.41182470e-03  2.00000000e+00\n",
      "   4.00000000e+00]\n",
      " [ 3.13693881e-02  5.96483350e-02 -1.99370682e-02  2.00000000e+00\n",
      "   5.00000000e+00]\n",
      " ...\n",
      " [-1.34177506e-02 -1.79621130e-02 -6.67034984e-02  5.10000000e+02\n",
      "   1.12000000e+02]\n",
      " [-7.13765621e-05 -6.85676932e-04 -2.93539464e-02  5.10000000e+02\n",
      "   1.56000000e+02]\n",
      " [-1.13149285e-02  5.91808558e-03 -4.85456586e-02  5.10000000e+02\n",
      "   1.64000000e+02]]\n",
      "Fine evaluate error Elapsed: 0.060620609999999076\n",
      "important_errors_size 3285240 err_to_send bytes 1874304\n",
      "Fine compressione LZ Elapsed: 1.6485263030000006\n",
      "FINE COMPRESSORE\n",
      "Inizio decompressore \n",
      "End block decompression with lzma 0.14830577300000058\n",
      "Fine decompressione rete: 0.24873490700000112\n",
      "[[ 2.34659314e-02  1.50492251e-01  9.35601294e-02  1.00000000e+00\n",
      "   5.10000000e+02]\n",
      " [ 2.94303894e-02  5.96402287e-02 -8.41182470e-03  2.00000000e+00\n",
      "   4.00000000e+00]\n",
      " [ 3.13693881e-02  5.96483350e-02 -1.99370682e-02  2.00000000e+00\n",
      "   5.00000000e+00]\n",
      " ...\n",
      " [-1.34177506e-02 -1.79621130e-02 -6.67034984e-02  5.10000000e+02\n",
      "   1.12000000e+02]\n",
      " [-7.13765621e-05 -6.85676932e-04 -2.93539464e-02  5.10000000e+02\n",
      "   1.56000000e+02]\n",
      " [-1.13149285e-02  5.91808558e-03 -4.85456586e-02  5.10000000e+02\n",
      "   1.64000000e+02]]\n",
      "End decompressed important errors 0.22505335900000034\n",
      "Fine miglioramento immagine: 0.3404888269999997\n",
      "Fine decompressore Elapsed: 0.15342680199999847\n"
     ]
    }
   ],
   "source": [
    "#Testo tutto il funzionamento.\n",
    "compression_utils.compressor(\"dataset2_preloaded/valid/lena.png\", encoder, decoder, 34)"
   ]
  },
  {
   "cell_type": "code",
   "execution_count": null,
   "metadata": {},
   "outputs": [],
   "source": []
  },
  {
   "cell_type": "code",
   "execution_count": null,
   "metadata": {},
   "outputs": [],
   "source": []
  },
  {
   "cell_type": "code",
   "execution_count": 17,
   "metadata": {},
   "outputs": [
    {
     "name": "stdout",
     "output_type": "stream",
     "text": [
      "Elapsed: 0.00892864400000093\n",
      "Elapsed: 0.010705224000005842\n",
      "Metodo test_blocks, test_block.shape (36, 128, 128, 3)\n",
      "Elapsed: 0.004222973000004515\n",
      "Elapsed: 0.10651967400000473\n",
      "image_blocks_size 7077888 compressed_blocks_comp 1383614\n",
      "Elapsed: 0.9711177429999935\n",
      "T elapsed = 0.0012563540000058993\n",
      "T elapsed = 0.0024402259999902753\n",
      "Fine calcolo errore T elapsed = 0.03694523099999003\n",
      "Shape important errors (5594, 5)\n",
      "[[ 1.22640461e-01  1.06585592e-01  1.66176111e-02  6.30000000e+01\n",
      "   4.54000000e+02]\n",
      " [ 1.36913985e-01  1.26098633e-01  3.01814526e-02  6.40000000e+01\n",
      "   4.53000000e+02]\n",
      " [ 1.24054074e-01  2.49181986e-02 -2.16291547e-02  7.50000000e+01\n",
      "   2.93000000e+02]\n",
      " ...\n",
      " [-1.34408474e-02 -5.66237271e-02 -1.51625454e-01  5.10000000e+02\n",
      "   1.72000000e+02]\n",
      " [-1.13163352e-01 -1.19846538e-02 -1.26276493e-01  5.11000000e+02\n",
      "   6.50000000e+01]\n",
      " [-9.86123979e-02  3.26465815e-02 -1.23077661e-01  5.11000000e+02\n",
      "   1.35000000e+02]]\n",
      "Fine evaluate error Elapsed: 0.06304233000000181\n",
      "shape compressed_blocks (36, 1, 32, 32, 16)\n",
      "<class 'numpy.float32'>\n",
      "size_compressed_blocks_lz 1383614 shape compressed_blocks (36, 1, 32, 32, 16)\n",
      "\n",
      "size_important_errors 68062\n",
      "\n",
      "size_immagine_rgb 3145728 shape immagine_rgb (512, 512, 3)\n",
      "<class 'numpy.float32'>\n",
      "\n"
     ]
    },
    {
     "data": {
      "text/plain": [
       "2.166962876013656"
      ]
     },
     "execution_count": 17,
     "metadata": {},
     "output_type": "execute_result"
    }
   ],
   "source": [
    "compression_utils.evaluate_compression_ratio(\"dataset2_preloaded/valid/lena.png\", encoder, decoder,1)"
   ]
  },
  {
   "cell_type": "code",
   "execution_count": null,
   "metadata": {},
   "outputs": [],
   "source": []
  }
 ],
 "metadata": {
  "kernelspec": {
   "display_name": "Python 3",
   "language": "python",
   "name": "python3"
  },
  "language_info": {
   "codemirror_mode": {
    "name": "ipython",
    "version": 3
   },
   "file_extension": ".py",
   "mimetype": "text/x-python",
   "name": "python",
   "nbconvert_exporter": "python",
   "pygments_lexer": "ipython3",
   "version": "3.7.3"
  }
 },
 "nbformat": 4,
 "nbformat_minor": 2
}
