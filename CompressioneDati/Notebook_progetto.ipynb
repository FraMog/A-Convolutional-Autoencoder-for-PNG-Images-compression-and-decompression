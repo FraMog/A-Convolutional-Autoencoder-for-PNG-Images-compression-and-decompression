{
 "cells": [
  {
   "cell_type": "code",
   "execution_count": 1,
   "metadata": {},
   "outputs": [],
   "source": [
    "import sys\n",
    "import os\n",
    "import shutil\n",
    "import time\n",
    "import importlib"
   ]
  },
  {
   "cell_type": "code",
   "execution_count": 2,
   "metadata": {},
   "outputs": [],
   "source": [
    "import tensorflow as tf\n",
    "import numpy as np\n",
    "import pandas as pd\n",
    "import matplotlib.pyplot as plt"
   ]
  },
  {
   "cell_type": "code",
   "execution_count": 3,
   "metadata": {},
   "outputs": [],
   "source": [
    "from random import randint\n",
    "from types import SimpleNamespace"
   ]
  },
  {
   "cell_type": "code",
   "execution_count": null,
   "metadata": {},
   "outputs": [],
   "source": []
  },
  {
   "cell_type": "code",
   "execution_count": 4,
   "metadata": {},
   "outputs": [],
   "source": [
    "from utils import image_utils\n",
    "from utils import network_utils\n",
    "from utils import compression_utils\n",
    "from utils import glob"
   ]
  },
  {
   "cell_type": "code",
   "execution_count": 5,
   "metadata": {},
   "outputs": [
    {
     "data": {
      "text/plain": [
       "<module 'utils.glob' from 'C:\\\\Users\\\\thefo\\\\CompressioneDati\\\\utils\\\\glob.py'>"
      ]
     },
     "execution_count": 5,
     "metadata": {},
     "output_type": "execute_result"
    }
   ],
   "source": [
    "# In caso di modifiche ai sorgenti \n",
    "importlib.reload(image_utils)\n",
    "importlib.reload(network_utils)\n",
    "importlib.reload(compression_utils)\n",
    "importlib.reload(glob)"
   ]
  },
  {
   "cell_type": "code",
   "execution_count": 6,
   "metadata": {},
   "outputs": [],
   "source": [
    "autoencoder = tf.keras.models.load_model('modello.h5')"
   ]
  },
  {
   "cell_type": "code",
   "execution_count": 7,
   "metadata": {},
   "outputs": [],
   "source": [
    "encoder, decoder = network_utils.get_trained_encoder_decoder(autoencoder, n_layers=6)"
   ]
  },
  {
   "cell_type": "code",
   "execution_count": 10,
   "metadata": {},
   "outputs": [
    {
     "name": "stdout",
     "output_type": "stream",
     "text": [
      "Elapsed: 0.011052199999994627\n",
      "Elapsed: 0.009978850999914357\n",
      "Metodo test_blocks, test_block.shape (25, 128, 128, 3)\n",
      "Elapsed: 0.0028761419999909776\n",
      "Elapsed: 0.2777973120000752\n",
      "Elapsed: 0.06158234600002288\n",
      "T elapsed = 0.0012954210000089006\n",
      "T elapsed = 0.002573363999999856\n",
      "Fine calcolo errore T elapsed = 0.03463039899997966\n",
      "Shape important errors (1924, 5)\n",
      "[[ 2.1516451e-01  1.6856962e-01  1.6800916e-01  3.6500000e+02\n",
      "   1.4500000e+02]\n",
      " [-6.4100593e-01 -2.8373021e-01 -1.1595431e-01  0.0000000e+00\n",
      "   0.0000000e+00]\n",
      " [-2.4105018e-01  7.5057566e-02  1.8866608e-01  0.0000000e+00\n",
      "   1.0000000e+00]\n",
      " ...\n",
      " [-6.7503572e-02 -1.7587140e-01 -2.2113061e-01  4.6400000e+02\n",
      "   1.6700000e+02]\n",
      " [-1.0158461e-01 -1.6979983e-01 -2.1173778e-01  4.9200000e+02\n",
      "   1.4500000e+02]\n",
      " [ 2.0755529e-03 -1.9498646e-01 -2.2105026e-01  5.0000000e+02\n",
      "   4.8100000e+02]]\n",
      "Fine evaluate error Elapsed: 0.0419978469999478\n",
      "important_errors size 38480\n",
      "compressed important_errors size 21770\n",
      "important_errors_size 38480 err_to_send bytes 21770\n",
      "Fine compressione LZ Elapsed: 0.04627993200006131\n",
      "FINE COMPRESSORE\n",
      "Inizio decompressore \n",
      "Fine decompressione rete: 0.24970775899998898\n",
      "[[ 2.1516451e-01  1.6856962e-01  1.6800916e-01  3.6500000e+02\n",
      "   1.4500000e+02]\n",
      " [-6.4100593e-01 -2.8373021e-01 -1.1595431e-01  0.0000000e+00\n",
      "   0.0000000e+00]\n",
      " [-2.4105018e-01  7.5057566e-02  1.8866608e-01  0.0000000e+00\n",
      "   1.0000000e+00]\n",
      " ...\n",
      " [-6.7503572e-02 -1.7587140e-01 -2.2113061e-01  4.6400000e+02\n",
      "   1.6700000e+02]\n",
      " [-1.0158461e-01 -1.6979983e-01 -2.1173778e-01  4.9200000e+02\n",
      "   1.4500000e+02]\n",
      " [ 2.0755529e-03 -1.9498646e-01 -2.2105026e-01  5.0000000e+02\n",
      "   4.8100000e+02]]\n",
      "End decompressed important errors \n",
      "Fine miglioramento immagine: 0.00432115299997804\n",
      "Fine decompressore Elapsed: 0.17346505500006515\n"
     ]
    }
   ],
   "source": [
    "#Testo tutto il funzionamento.\n",
    "compression_utils.compressor(\"dataset2_preloaded/valid/lena.png\", encoder, decoder)"
   ]
  },
  {
   "cell_type": "code",
   "execution_count": null,
   "metadata": {},
   "outputs": [],
   "source": []
  },
  {
   "cell_type": "code",
   "execution_count": null,
   "metadata": {},
   "outputs": [],
   "source": []
  },
  {
   "cell_type": "markdown",
   "metadata": {},
   "source": []
  },
  {
   "cell_type": "code",
   "execution_count": null,
   "metadata": {},
   "outputs": [],
   "source": []
  }
 ],
 "metadata": {
  "kernelspec": {
   "display_name": "Python 3",
   "language": "python",
   "name": "python3"
  },
  "language_info": {
   "codemirror_mode": {
    "name": "ipython",
    "version": 3
   },
   "file_extension": ".py",
   "mimetype": "text/x-python",
   "name": "python",
   "nbconvert_exporter": "python",
   "pygments_lexer": "ipython3",
   "version": "3.7.3"
  }
 },
 "nbformat": 4,
 "nbformat_minor": 2
}
