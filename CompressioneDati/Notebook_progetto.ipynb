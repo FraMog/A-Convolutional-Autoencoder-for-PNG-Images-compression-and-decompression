{
 "cells": [
  {
   "cell_type": "code",
   "execution_count": null,
   "metadata": {},
   "outputs": [],
   "source": [
    "import sys\n",
    "import os\n",
    "import shutil\n",
    "import time\n",
    "import importlib"
   ]
  },
  {
   "cell_type": "code",
   "execution_count": 2,
   "metadata": {},
   "outputs": [],
   "source": [
    "import tensorflow as tf\n",
    "import numpy as np\n",
    "import pandas as pd\n",
    "import matplotlib.pyplot as plt"
   ]
  },
  {
   "cell_type": "code",
   "execution_count": 3,
   "metadata": {},
   "outputs": [],
   "source": [
    "from random import randint\n",
    "from types import SimpleNamespace"
   ]
  },
  {
   "cell_type": "code",
   "execution_count": 4,
   "metadata": {},
   "outputs": [],
   "source": [
    "from utils import compressor\n",
    "from utils import decompressor\n",
    "from utils import image_utils\n",
    "from utils import network_utils\n",
    "from utils import compression_utils \n",
    "from utils import glob \n",
    "from utils import performance_utils\n",
    "from utils import custom_lzma"
   ]
  },
  {
   "cell_type": "code",
   "execution_count": 5,
   "metadata": {},
   "outputs": [
    {
     "data": {
      "text/plain": [
       "<module 'utils.glob' from 'C:\\\\Users\\\\thefo\\\\CompressioneDati\\\\utils\\\\glob.py'>"
      ]
     },
     "execution_count": 5,
     "metadata": {},
     "output_type": "execute_result"
    }
   ],
   "source": [
    "# In caso di modifiche ai sorgenti \n",
    "importlib.reload(image_utils)\n",
    "importlib.reload(network_utils)\n",
    "importlib.reload(compression_utils)\n",
    "importlib.reload(glob)"
   ]
  },
  {
   "cell_type": "code",
   "execution_count": 6,
   "metadata": {},
   "outputs": [],
   "source": [
    "autoencoder = tf.keras.models.load_model('modello.h5')"
   ]
  },
  {
   "cell_type": "code",
   "execution_count": 7,
   "metadata": {},
   "outputs": [],
   "source": [
    "encoder, decoder = network_utils.get_trained_encoder_decoder(autoencoder, n_layers=6)"
   ]
  },
  {
   "cell_type": "code",
   "execution_count": null,
   "metadata": {},
   "outputs": [],
   "source": []
  },
  {
   "cell_type": "code",
   "execution_count": null,
   "metadata": {},
   "outputs": [],
   "source": []
  },
  {
   "cell_type": "markdown",
   "metadata": {},
   "source": [
    "### 1) Compression and decompression testing and time performances"
   ]
  },
  {
   "cell_type": "code",
   "execution_count": 8,
   "metadata": {},
   "outputs": [],
   "source": [
    "error_correction_desidered_quality = 95 # 0 = Lowest quality, 100 = highest_quality (almost lossless compression)\n",
    "path = \"parrots.png\""
   ]
  },
  {
   "cell_type": "code",
   "execution_count": 9,
   "metadata": {},
   "outputs": [
    {
     "name": "stdout",
     "output_type": "stream",
     "text": [
      "Compressor STARTS\n",
      "Image loaded. Elapsed: 0.015456662000000065\n",
      "Image padded. Elapsed: 0.014162266999999673\n",
      "Image separated into blocks. Elapsed: 4.729399999980899e-05\n",
      "Image blocks compressed through network. Elapsed: 1.0196179529999991\n",
      "Blocks recompressed through LZMA. Elapsed: 1.0509440659999996\n",
      "Image decompressed. Elapsed: 0.19868863999999942\n",
      "Proper treshold computed. Elapsed: 0.020798742000000203\n",
      "Treshold is 0.0009278707206249238\n",
      "Relevant errors computed. Elapsed: 0.04689946600000017\n",
      "Relevant errors LZMA compressed. Elapsed: 4.949380304\n",
      "Compressor ENDS. Total compressor computation time is 7.318460297\n",
      "\n",
      "Decompressor STARTS\n",
      "Blocks LZMA decompressed. Elapsed: 0.17699903900000002\n",
      "Blocks decompressed through decoder network. Elapsed: 0.10950491200000023\n",
      "Network decompressed image saved in predicted/network_decompression.png. Elapsed: 0.2367226819999999\n",
      "Relevant errors decompressed through LZMA. Elapsed: 0.4836766380000004\n",
      "Image error corrected. Elapsed: 0.8299947060000008\n",
      "Error-corrected image saved in predicted/decompression_error_corrected.png. Elapsed: 0.23331654100000065\n",
      "Decompressor ENDS. Total decompressor computation time is 2.070978405\n"
     ]
    }
   ],
   "source": [
    "#Compressor and decompressor time performances.\n",
    "compression_code = compressor.compress(path, encoder, decoder, error_correction_desidered_quality)\n",
    "decompressed_image = decompressor.decompress(compression_code, decoder)"
   ]
  },
  {
   "cell_type": "markdown",
   "metadata": {},
   "source": [
    "#### 2) Compression ratio "
   ]
  },
  {
   "cell_type": "code",
   "execution_count": 10,
   "metadata": {},
   "outputs": [
    {
     "name": "stdout",
     "output_type": "stream",
     "text": [
      "size_rgb_image 4718592 shape rgb image (512, 768, 3)\n",
      "type rgb_image <class 'numpy.float32'>\n",
      "\n",
      "size_alpha_channel = 0 \n",
      "\n",
      "size_compressed_blocks_lz 1688365\n",
      "type compressed_blocks_lz <class 'bytes'>\n",
      "\n",
      "size_important_errors 4297133\n",
      "type important_errors_lz <class 'bytes'>\n",
      "\n",
      "size_alpha_channel_lz = 0 \n",
      "\n",
      "compression_ratio = original_size/compressed_size \n",
      "original_size = size_alpha_channel + size_rgb_image \n",
      "compressed_size = size_compressed_blocks_lz + size_important_errors_lz + size_alpha_channel_lz \n"
     ]
    },
    {
     "data": {
      "text/plain": [
       "0.7883374115236527"
      ]
     },
     "execution_count": 10,
     "metadata": {},
     "output_type": "execute_result"
    }
   ],
   "source": [
    "#Compression ratio evaluation\n",
    "rgb_image, alpha_channel = image_utils.load_image(path)\n",
    "performance_utils.evaluate_compression_ratio(rgb_image, alpha_channel, compression_code)"
   ]
  },
  {
   "cell_type": "markdown",
   "metadata": {},
   "source": [
    "#### 3) Autoencoder block compression/decompression error (mean and std)"
   ]
  },
  {
   "cell_type": "code",
   "execution_count": 11,
   "metadata": {},
   "outputs": [
    {
     "name": "stdout",
     "output_type": "stream",
     "text": [
      "mean error 0.0064177862\n",
      "error std 0.025000265\n",
      "mean absolute error 0.015045037\n",
      "asolute error std 0.020972557\n"
     ]
    }
   ],
   "source": [
    "#Autoencoder's compression/decompression error evaluation (mean and standard deviation)\n",
    "error_informations = performance_utils.autoencoder_error_evaluation(rgb_image, compression_code, decoder , p=False)[2:6]\n",
    "print (\"mean error \" + str(error_informations[0]))\n",
    "print (\"error std \" + str(error_informations[1]))\n",
    "print (\"mean absolute error \" + str(error_informations[2]))\n",
    "print (\"asolute error std \" + str(error_informations[3]))"
   ]
  },
  {
   "cell_type": "markdown",
   "metadata": {},
   "source": [
    "#### 4) Autoencoder with error correction: PSNR"
   ]
  },
  {
   "cell_type": "code",
   "execution_count": 12,
   "metadata": {},
   "outputs": [
    {
     "data": {
      "text/plain": [
       "71.01930377662276"
      ]
     },
     "execution_count": 12,
     "metadata": {},
     "output_type": "execute_result"
    }
   ],
   "source": [
    "decoded_image = err_corrected_image = image_utils.load_image(\"predicted/decompression_error_corrected.png\")[0]\n",
    "decoded_image_rgb = decoded_image[:,:, :3]\n",
    "performance_utils.get_psnr(rgb_image, decoded_image)"
   ]
  },
  {
   "cell_type": "code",
   "execution_count": null,
   "metadata": {},
   "outputs": [],
   "source": []
  },
  {
   "cell_type": "code",
   "execution_count": null,
   "metadata": {},
   "outputs": [],
   "source": []
  },
  {
   "cell_type": "code",
   "execution_count": null,
   "metadata": {},
   "outputs": [],
   "source": []
  },
  {
   "cell_type": "markdown",
   "metadata": {},
   "source": [
    "### 5) Lena, Parrots, Madrill: PSNR and compression ratio values with all possible error correction quality values"
   ]
  },
  {
   "cell_type": "code",
   "execution_count": 13,
   "metadata": {},
   "outputs": [
    {
     "name": "stdout",
     "output_type": "stream",
     "text": [
      "PSNRs and compression ratios with error correction quality 1 estimated\n",
      "PSNRs and compression ratios with error correction quality 2 estimated\n",
      "PSNRs and compression ratios with error correction quality 3 estimated\n",
      "PSNRs and compression ratios with error correction quality 4 estimated\n",
      "PSNRs and compression ratios with error correction quality 5 estimated\n",
      "PSNRs and compression ratios with error correction quality 6 estimated\n",
      "PSNRs and compression ratios with error correction quality 7 estimated\n",
      "PSNRs and compression ratios with error correction quality 8 estimated\n",
      "PSNRs and compression ratios with error correction quality 9 estimated\n",
      "PSNRs and compression ratios with error correction quality 10 estimated\n",
      "PSNRs and compression ratios with error correction quality 11 estimated\n",
      "PSNRs and compression ratios with error correction quality 12 estimated\n",
      "PSNRs and compression ratios with error correction quality 13 estimated\n",
      "PSNRs and compression ratios with error correction quality 14 estimated\n",
      "PSNRs and compression ratios with error correction quality 15 estimated\n",
      "PSNRs and compression ratios with error correction quality 16 estimated\n",
      "PSNRs and compression ratios with error correction quality 17 estimated\n",
      "PSNRs and compression ratios with error correction quality 18 estimated\n",
      "PSNRs and compression ratios with error correction quality 19 estimated\n",
      "PSNRs and compression ratios with error correction quality 20 estimated\n",
      "PSNRs and compression ratios with error correction quality 21 estimated\n",
      "PSNRs and compression ratios with error correction quality 22 estimated\n",
      "PSNRs and compression ratios with error correction quality 23 estimated\n",
      "PSNRs and compression ratios with error correction quality 24 estimated\n",
      "PSNRs and compression ratios with error correction quality 25 estimated\n",
      "PSNRs and compression ratios with error correction quality 26 estimated\n",
      "PSNRs and compression ratios with error correction quality 27 estimated\n",
      "PSNRs and compression ratios with error correction quality 28 estimated\n",
      "PSNRs and compression ratios with error correction quality 29 estimated\n",
      "PSNRs and compression ratios with error correction quality 30 estimated\n",
      "PSNRs and compression ratios with error correction quality 31 estimated\n",
      "PSNRs and compression ratios with error correction quality 32 estimated\n",
      "PSNRs and compression ratios with error correction quality 33 estimated\n",
      "PSNRs and compression ratios with error correction quality 34 estimated\n",
      "PSNRs and compression ratios with error correction quality 35 estimated\n",
      "PSNRs and compression ratios with error correction quality 36 estimated\n",
      "PSNRs and compression ratios with error correction quality 37 estimated\n",
      "PSNRs and compression ratios with error correction quality 38 estimated\n",
      "PSNRs and compression ratios with error correction quality 39 estimated\n",
      "PSNRs and compression ratios with error correction quality 40 estimated\n",
      "PSNRs and compression ratios with error correction quality 41 estimated\n",
      "PSNRs and compression ratios with error correction quality 42 estimated\n",
      "PSNRs and compression ratios with error correction quality 43 estimated\n",
      "PSNRs and compression ratios with error correction quality 44 estimated\n",
      "PSNRs and compression ratios with error correction quality 45 estimated\n",
      "PSNRs and compression ratios with error correction quality 46 estimated\n",
      "PSNRs and compression ratios with error correction quality 47 estimated\n",
      "PSNRs and compression ratios with error correction quality 48 estimated\n",
      "PSNRs and compression ratios with error correction quality 49 estimated\n",
      "PSNRs and compression ratios with error correction quality 50 estimated\n",
      "PSNRs and compression ratios with error correction quality 51 estimated\n",
      "PSNRs and compression ratios with error correction quality 52 estimated\n",
      "PSNRs and compression ratios with error correction quality 53 estimated\n",
      "PSNRs and compression ratios with error correction quality 54 estimated\n",
      "PSNRs and compression ratios with error correction quality 55 estimated\n",
      "PSNRs and compression ratios with error correction quality 56 estimated\n",
      "PSNRs and compression ratios with error correction quality 57 estimated\n",
      "PSNRs and compression ratios with error correction quality 58 estimated\n",
      "PSNRs and compression ratios with error correction quality 59 estimated\n",
      "PSNRs and compression ratios with error correction quality 60 estimated\n",
      "PSNRs and compression ratios with error correction quality 61 estimated\n",
      "PSNRs and compression ratios with error correction quality 62 estimated\n",
      "PSNRs and compression ratios with error correction quality 63 estimated\n",
      "PSNRs and compression ratios with error correction quality 64 estimated\n",
      "PSNRs and compression ratios with error correction quality 65 estimated\n",
      "PSNRs and compression ratios with error correction quality 66 estimated\n",
      "PSNRs and compression ratios with error correction quality 67 estimated\n",
      "PSNRs and compression ratios with error correction quality 68 estimated\n",
      "PSNRs and compression ratios with error correction quality 69 estimated\n",
      "PSNRs and compression ratios with error correction quality 70 estimated\n",
      "PSNRs and compression ratios with error correction quality 71 estimated\n",
      "PSNRs and compression ratios with error correction quality 72 estimated\n",
      "PSNRs and compression ratios with error correction quality 73 estimated\n",
      "PSNRs and compression ratios with error correction quality 74 estimated\n",
      "PSNRs and compression ratios with error correction quality 75 estimated\n",
      "PSNRs and compression ratios with error correction quality 76 estimated\n",
      "PSNRs and compression ratios with error correction quality 77 estimated\n",
      "PSNRs and compression ratios with error correction quality 78 estimated\n",
      "PSNRs and compression ratios with error correction quality 79 estimated\n",
      "PSNRs and compression ratios with error correction quality 80 estimated\n",
      "PSNRs and compression ratios with error correction quality 81 estimated\n",
      "PSNRs and compression ratios with error correction quality 82 estimated\n",
      "PSNRs and compression ratios with error correction quality 83 estimated\n",
      "PSNRs and compression ratios with error correction quality 84 estimated\n",
      "PSNRs and compression ratios with error correction quality 85 estimated\n",
      "PSNRs and compression ratios with error correction quality 86 estimated\n",
      "PSNRs and compression ratios with error correction quality 87 estimated\n",
      "PSNRs and compression ratios with error correction quality 88 estimated\n",
      "PSNRs and compression ratios with error correction quality 89 estimated\n",
      "PSNRs and compression ratios with error correction quality 90 estimated\n",
      "PSNRs and compression ratios with error correction quality 91 estimated\n",
      "PSNRs and compression ratios with error correction quality 92 estimated\n",
      "PSNRs and compression ratios with error correction quality 93 estimated\n",
      "PSNRs and compression ratios with error correction quality 94 estimated\n",
      "PSNRs and compression ratios with error correction quality 95 estimated\n",
      "PSNRs and compression ratios with error correction quality 96 estimated\n",
      "PSNRs and compression ratios with error correction quality 97 estimated\n",
      "PSNRs and compression ratios with error correction quality 98 estimated\n",
      "PSNRs and compression ratios with error correction quality 99 estimated\n",
      "PSNRs and compression ratios with error correction quality 100 estimated\n"
     ]
    }
   ],
   "source": [
    "#PSNR amd compression_ratio evaluation with all possible error correction quality values \n",
    "image_paths = [\"lena.png\", \"parrots.png\", \"mandrill.png\"]\n",
    "psnrs, compression_ratios = performance_utils.estimate_psnr_and_compr_ratio(image_paths, encoder, decoder)"
   ]
  },
  {
   "cell_type": "markdown",
   "metadata": {},
   "source": [
    "### 5.b) Plot Compression Ratio compared to error correction quality"
   ]
  },
  {
   "cell_type": "markdown",
   "metadata": {},
   "source": [
    "# "
   ]
  },
  {
   "cell_type": "code",
   "execution_count": 26,
   "metadata": {},
   "outputs": [
    {
     "data": {
      "text/plain": [
       "[<matplotlib.lines.Line2D at 0x24d93b31278>]"
      ]
     },
     "execution_count": 26,
     "metadata": {},
     "output_type": "execute_result"
    },
    {
     "data": {
      "image/png": "[encoded data removed]",
      "text/plain": [
       "<Figure size 432x288 with 1 Axes>"
      ]
     },
     "metadata": {
      "needs_background": "light"
     },
     "output_type": "display_data"
    }
   ],
   "source": [
    "plt.xlabel('Error Correction Quality', fontsize=12)\n",
    "plt.ylabel('Compression Ratio', fontsize=14)\n",
    "plt.plot(np.asarray(compression_ratios[0])) # Blue curve for Lena\n",
    "plt.plot(np.asarray(compression_ratios[1])) # Orange curve for Parrots\n",
    "plt.plot(np.asarray(compression_ratios[2])) # Green curve for Mandrill"
   ]
  },
  {
   "cell_type": "markdown",
   "metadata": {},
   "source": [
    "#### 5.c) Plot PSNR compared to error correction quality"
   ]
  },
  {
   "cell_type": "code",
   "execution_count": 35,
   "metadata": {},
   "outputs": [
    {
     "data": {
      "text/plain": [
       "[<matplotlib.lines.Line2D at 0x24dbc0e6240>]"
      ]
     },
     "execution_count": 35,
     "metadata": {},
     "output_type": "execute_result"
    },
    {
     "data": {
      "image/png": "[encoded data removed]",
      "text/plain": [
       "<Figure size 432x288 with 1 Axes>"
      ]
     },
     "metadata": {
      "needs_background": "light"
     },
     "output_type": "display_data"
    }
   ],
   "source": [
    "plt.xlabel('Error Correction Quality', fontsize=12)\n",
    "plt.ylabel('PSNR', fontsize=14)\n",
    "plt.plot(np.asarray(psnrs[0])) # Blue curve for Lena\n",
    "plt.plot(np.asarray(psnrs[1])) # Orange curve for Parrots\n",
    "plt.plot(np.asarray(psnrs[2])) # Green curve for Mandrill"
   ]
  },
  {
   "cell_type": "code",
   "execution_count": null,
   "metadata": {},
   "outputs": [],
   "source": []
  },
  {
   "cell_type": "markdown",
   "metadata": {},
   "source": [
    "#### 5.d) (Lena, Parrots, Mandrill) Plot PSNR compared to Compression ratio with same error correction quality value"
   ]
  },
  {
   "cell_type": "code",
   "execution_count": 48,
   "metadata": {},
   "outputs": [
    {
     "data": {
      "text/plain": [
       "[<matplotlib.lines.Line2D at 0x24dc336ef98>]"
      ]
     },
     "execution_count": 48,
     "metadata": {},
     "output_type": "execute_result"
    },
    {
     "data": {
      "image/png": "[encoded data removed]",
      "text/plain": [
       "<Figure size 432x288 with 1 Axes>"
      ]
     },
     "metadata": {
      "needs_background": "light"
     },
     "output_type": "display_data"
    }
   ],
   "source": [
    "lena_comp_ratios = compression_ratios[0]\n",
    "lena_psnrs = psnrs[0]\n",
    "plt.title(\"LENA\")\n",
    "plt.xlabel('Compression Ratio', fontsize=14)\n",
    "plt.ylabel('PSNR (dB)', fontsize=14)\n",
    "plt.plot(lena_comp_ratios, lena_psnrs)"
   ]
  },
  {
   "cell_type": "code",
   "execution_count": 49,
   "metadata": {},
   "outputs": [
    {
     "data": {
      "text/plain": [
       "[<matplotlib.lines.Line2D at 0x24dc3402860>]"
      ]
     },
     "execution_count": 49,
     "metadata": {},
     "output_type": "execute_result"
    },
    {
     "data": {
      "image/png": "[encoded data removed]",
      "text/plain": [
       "<Figure size 432x288 with 1 Axes>"
      ]
     },
     "metadata": {
      "needs_background": "light"
     },
     "output_type": "display_data"
    }
   ],
   "source": [
    "parrots_comp_ratios = compression_ratios[1]\n",
    "parrots_psnrs = psnrs[1]\n",
    "plt.title(\"PARROTS\")\n",
    "plt.xlabel('Compression Ratio', fontsize=14)\n",
    "plt.ylabel('PSNR (dB)', fontsize=14)\n",
    "plt.plot(parrots_comp_ratios, parrots_psnrs)"
   ]
  },
  {
   "cell_type": "code",
   "execution_count": 50,
   "metadata": {},
   "outputs": [
    {
     "data": {
      "text/plain": [
       "[<matplotlib.lines.Line2D at 0x24dc34bab38>]"
      ]
     },
     "execution_count": 50,
     "metadata": {},
     "output_type": "execute_result"
    },
    {
     "data": {
      "image/png": "[encoded data removed]",
      "text/plain": [
       "<Figure size 432x288 with 1 Axes>"
      ]
     },
     "metadata": {
      "needs_background": "light"
     },
     "output_type": "display_data"
    }
   ],
   "source": [
    "mandrill_comp_ratios = compression_ratios[2]\n",
    "mandrill_psnrs = psnrs[2]\n",
    "plt.title(\"MANDRILL\")\n",
    "plt.xlabel('Compression Ratio', fontsize=14)\n",
    "plt.ylabel('PSNR (dB)', fontsize=14)\n",
    "plt.plot(mandrill_comp_ratios, mandrill_psnrs)"
   ]
  },
  {
   "cell_type": "code",
   "execution_count": null,
   "metadata": {},
   "outputs": [],
   "source": []
  },
  {
   "cell_type": "markdown",
   "metadata": {},
   "source": [
    "### Load compression ratios and psnrs and vectors"
   ]
  },
  {
   "cell_type": "code",
   "execution_count": 47,
   "metadata": {},
   "outputs": [],
   "source": [
    "psnrs = np.load(\"psnrs.npy\")\n",
    "compression_ratios = np.load(\"compression_ratios.npy\")"
   ]
  },
  {
   "cell_type": "code",
   "execution_count": null,
   "metadata": {},
   "outputs": [],
   "source": []
  },
  {
   "cell_type": "markdown",
   "metadata": {},
   "source": [
    "### Get and train a new autoencoder instance"
   ]
  },
  {
   "cell_type": "code",
   "execution_count": null,
   "metadata": {},
   "outputs": [],
   "source": [
    "conv_network = network_utils.get_autoencoder()\n",
    "# Training takes 8 hours on NVIDIA GeForce 150MX\n",
    "conv_network = network_utils.fit_network(conv_network)\n",
    "encoder = network_utils.get_encoder()\n",
    "encoder.set_weights(conv_network.get_weights()[0:6] )\n",
    "decoder = network_utils.get_decoder()\n",
    "decoder.set_weights(conv_network.get_weights()[6:] )"
   ]
  }
 ],
 "metadata": {
  "kernelspec": {
   "display_name": "Python 3",
   "language": "python",
   "name": "python3"
  },
  "language_info": {
   "codemirror_mode": {
    "name": "ipython",
    "version": 3
   },
   "file_extension": ".py",
   "mimetype": "text/x-python",
   "name": "python",
   "nbconvert_exporter": "python",
   "pygments_lexer": "ipython3",
   "version": "3.7.3"
  }
 },
 "nbformat": 4,
 "nbformat_minor": 2
}
