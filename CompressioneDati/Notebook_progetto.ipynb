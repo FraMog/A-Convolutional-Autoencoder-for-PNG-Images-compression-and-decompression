{
 "cells": [
  {
   "cell_type": "code",
   "execution_count": 13,
   "metadata": {},
   "outputs": [],
   "source": [
    "import sys\n",
    "import os\n",
    "import shutil\n",
    "import time\n",
    "import importlib"
   ]
  },
  {
   "cell_type": "code",
   "execution_count": 14,
   "metadata": {},
   "outputs": [],
   "source": [
    "import tensorflow as tf\n",
    "import numpy as np\n",
    "import pandas as pd\n",
    "import matplotlib.pyplot as plt"
   ]
  },
  {
   "cell_type": "code",
   "execution_count": 15,
   "metadata": {},
   "outputs": [],
   "source": [
    "from random import randint\n",
    "from types import SimpleNamespace"
   ]
  },
  {
   "cell_type": "code",
   "execution_count": 16,
   "metadata": {},
   "outputs": [],
   "source": [
    "from utils import compressor\n",
    "from utils import decompressor\n",
    "from utils import image_utils\n",
    "from utils import network_utils\n",
    "from utils import compression_utils \n",
    "from utils import glob \n",
    "from utils import performance_utils\n",
    "from utils import custom_lzma"
   ]
  },
  {
   "cell_type": "code",
   "execution_count": 17,
   "metadata": {},
   "outputs": [
    {
     "data": {
      "text/plain": [
       "<module 'utils.glob' from 'C:\\\\Users\\\\thefo\\\\CompressioneDati\\\\utils\\\\glob.py'>"
      ]
     },
     "execution_count": 17,
     "metadata": {},
     "output_type": "execute_result"
    }
   ],
   "source": [
    "# In caso di modifiche ai sorgenti \n",
    "importlib.reload(image_utils)\n",
    "importlib.reload(network_utils)\n",
    "importlib.reload(compression_utils)\n",
    "importlib.reload(glob)"
   ]
  },
  {
   "cell_type": "code",
   "execution_count": 18,
   "metadata": {},
   "outputs": [],
   "source": [
    "autoencoder = tf.keras.models.load_model('modello.h5')"
   ]
  },
  {
   "cell_type": "code",
   "execution_count": 19,
   "metadata": {},
   "outputs": [],
   "source": [
    "encoder, decoder = network_utils.get_trained_encoder_decoder(autoencoder, n_layers=6)"
   ]
  },
  {
   "cell_type": "code",
   "execution_count": null,
   "metadata": {},
   "outputs": [],
   "source": []
  },
  {
   "cell_type": "code",
   "execution_count": null,
   "metadata": {},
   "outputs": [],
   "source": []
  },
  {
   "cell_type": "markdown",
   "metadata": {},
   "source": [
    "### 1) Compression and decompression testing and time performances"
   ]
  },
  {
   "cell_type": "code",
   "execution_count": 20,
   "metadata": {},
   "outputs": [],
   "source": [
    "error_correction_desidered_quality = 1 # 1 = Lowest quality, 100 = highest_quality (almost lossless compression)\n",
    "path = \"dataset/valid/6.png\""
   ]
  },
  {
   "cell_type": "code",
   "execution_count": 21,
   "metadata": {},
   "outputs": [
    {
     "name": "stdout",
     "output_type": "stream",
     "text": [
      "Compressor STARTS\n",
      "Image loaded. Elapsed: 0.22214894100000038\n",
      "Image padded. Elapsed: 0.19921380200000272\n",
      "Image separated into blocks. Elapsed: 0.0005233090000018592\n",
      "Alpha channel LZMA-compressed. Elapsed: 2.6419273610000005\n",
      "Image blocks compressed through network. Elapsed: 0.7344898909999955\n",
      "Blocks recompressed through LZMA. Elapsed: 13.888327939999996\n",
      "Image decompressed. Elapsed: 0.9642113960000103\n",
      "Proper treshold computed. Elapsed: 0.04332775500000707\n",
      "Treshold is 0.3096336519718161\n",
      "Relevant errors computed. Elapsed: 0.9866078040000019\n",
      "Relevant errors LZMA compressed. Elapsed: 0.869706762000007\n",
      "Compressor ENDS. Total compressor computation time is 20.55497575700001\n",
      "\n",
      "Decompressor STARTS\n",
      "Alpha channel LZMA decompressed. Elapsed: 0.1135519649999992\n",
      "Blocks LZMA decompressed. Elapsed: 2.7759675570000013\n",
      "Blocks decompressed through decoder network. Elapsed: 0.8280630560000048\n",
      "Network decompressed image saved in predicted/network_decompression.png. Elapsed: 2.831891748000004\n",
      "Relevant errors decompressed through LZMA. Elapsed: 0.13182718299999863\n",
      "Image error corrected. Elapsed: 0.2567341379999988\n",
      "Error-corrected image saved in predicted/decompression_error_corrected.png. Elapsed: 2.9436542830000008\n",
      "Decompressor ENDS. Total decompressor computation time is 9.883566235000004\n"
     ]
    }
   ],
   "source": [
    "#Compressor and decompressor time performances.\n",
    "compressed_code = compressor.compress(path, encoder, decoder, error_correction_desidered_quality)\n",
    "decompressed_image = decompressor.decompress(compressed_code, decoder)"
   ]
  },
  {
   "cell_type": "markdown",
   "metadata": {},
   "source": [
    "#### 2) Compression ratio "
   ]
  },
  {
   "cell_type": "code",
   "execution_count": 10,
   "metadata": {},
   "outputs": [
    {
     "name": "stdout",
     "output_type": "stream",
     "text": [
      "size_rgb_image 27613440 shape rgb image (1128, 2040, 3)\n",
      "type rgb_image <class 'numpy.float32'>\n",
      "\n",
      "size_alpha_channel 9204480\n",
      "type alpha_channel <class 'numpy.float32'>\n",
      "\n",
      "size_compressed_blocks_lz 9822090\n",
      "type compressed_blocks_lz <class 'bytes'>\n",
      "\n",
      "size_important_errors 551837\n",
      "type important_errors_lz <class 'bytes'>\n",
      "\n",
      "size_alpha_channel_lz 1417\n",
      "type alpha_channel_lz <class 'bytes'>\n",
      "\n",
      "compression_ratio = original_size/compressed_size \n",
      "original_size = size_alpha_channel + size_rgb_image \n",
      "compressed_size = size_compressed_blocks_lz + size_important_errors_lz + size_alpha_channel_lz \n"
     ]
    },
    {
     "data": {
      "text/plain": [
       "3.5485975212002607"
      ]
     },
     "execution_count": 10,
     "metadata": {},
     "output_type": "execute_result"
    }
   ],
   "source": [
    "#Compression ratio evaluation\n",
    "rgb_image, alpha_channel = image_utils.load_image(path)\n",
    "performance_utils.evaluate_compression_ratio(rgb_image, alpha_channel, compressed_code)"
   ]
  },
  {
   "cell_type": "markdown",
   "metadata": {},
   "source": [
    "#### 3) Autoencoder block compression/decompression error (mean and std)"
   ]
  },
  {
   "cell_type": "code",
   "execution_count": 23,
   "metadata": {},
   "outputs": [
    {
     "name": "stdout",
     "output_type": "stream",
     "text": [
      "mean error 0.005701641\n",
      "error std 0.08639764\n",
      "mean absolute error 0.057652388\n",
      "asolute error std 0.06460084\n"
     ]
    }
   ],
   "source": [
    "#Autoencoder's compression/decompression error evaluation (mean and standard deviation)\n",
    "(compressed_blocks_lz, compressed_blocks_shape, \n",
    "important_errors_lz, imp_errors_shape,\n",
    "padding_info, width_immagine_originale,\n",
    "height_immagine_originale, alpha_channel_lz) = compressed_code\n",
    "    \n",
    "    \n",
    "compressed_blocks = custom_lzma.decompression(compressed_blocks_lz)\n",
    "compressed_blocks = compressed_blocks.reshape(compressed_blocks_shape)\n",
    "\n",
    "error_informations = performance_utils.autoencoder_error_evaluation(rgb_image, compressed_blocks,\n",
    "                                                                    decoder, width_immagine_originale, \n",
    "                                                                    height_immagine_originale, padding_info,\n",
    "                                                                    p=True)\n",
    "error_informations = error_informations [2:6]\n",
    "\n",
    "print (\"mean error \" + str(error_informations[0]))\n",
    "print (\"error std \" + str(error_informations[1]))\n",
    "print (\"mean absolute error \" + str(error_informations[2]))\n",
    "print (\"asolute error std \" + str(error_informations[3]))"
   ]
  },
  {
   "cell_type": "code",
   "execution_count": null,
   "metadata": {},
   "outputs": [],
   "source": []
  },
  {
   "cell_type": "code",
   "execution_count": null,
   "metadata": {},
   "outputs": [],
   "source": []
  },
  {
   "cell_type": "markdown",
   "metadata": {},
   "source": [
    "#### 4) Autoencoder with error correction: PSNR"
   ]
  },
  {
   "cell_type": "code",
   "execution_count": 24,
   "metadata": {},
   "outputs": [
    {
     "data": {
      "text/plain": [
       "17.55225058765577"
      ]
     },
     "execution_count": 24,
     "metadata": {},
     "output_type": "execute_result"
    }
   ],
   "source": [
    "decoded_image = err_corrected_image = image_utils.load_image(\"predicted/decompression_error_corrected.png\")[0]\n",
    "decoded_image_rgb = decoded_image[:,:, :3]\n",
    "performance_utils.get_psnr(rgb_image, decoded_image)"
   ]
  },
  {
   "cell_type": "code",
   "execution_count": null,
   "metadata": {},
   "outputs": [],
   "source": []
  },
  {
   "cell_type": "markdown",
   "metadata": {},
   "source": [
    "### 5) Autoencoder block compression/decompression error (mean and std) on validation set"
   ]
  },
  {
   "cell_type": "code",
   "execution_count": null,
   "metadata": {},
   "outputs": [],
   "source": [
    "validation_set_error_infos = performance_utils.validation_set_autoencoder_error_evaluation(encoder, decoder)\n",
    "for i in range (len(validation_set_error_infos)):\n",
    "    curr = validation_set_error_infos[i]\n",
    "    print (\"Image dataset/train/\" + str(i) + \".png\")\n",
    "    print (\"mean error \" + str(curr[0]))\n",
    "    print (\"error std \" + str(curr[1]))\n",
    "    print (\"mean absolute error \" + str(curr[2]))\n",
    "    print (\"asolute error std \" + str(curr[3]) + \"\\n\") "
   ]
  },
  {
   "cell_type": "markdown",
   "metadata": {},
   "source": [
    "### 6) Lena, Parrots, Madrill: PSNR and compression ratio values with all possible error correction quality values [1 - 100]"
   ]
  },
  {
   "cell_type": "code",
   "execution_count": null,
   "metadata": {},
   "outputs": [],
   "source": [
    "#PSNR amd compression_ratio evaluation with all possible error correction quality values \n",
    "image_paths = [\"lena.png\", \"parrots.png\", \"mandrill.png\"]\n",
    "psnrs, compression_ratios = performance_utils.estimate_psnr_and_compr_ratio(image_paths, encoder, decoder)"
   ]
  },
  {
   "cell_type": "markdown",
   "metadata": {},
   "source": [
    "### 6.b) Plot Compression Ratio compared to error correction quality"
   ]
  },
  {
   "cell_type": "markdown",
   "metadata": {},
   "source": [
    "# "
   ]
  },
  {
   "cell_type": "code",
   "execution_count": 26,
   "metadata": {},
   "outputs": [
    {
     "data": {
      "text/plain": [
       "[<matplotlib.lines.Line2D at 0x24d93b31278>]"
      ]
     },
     "execution_count": 26,
     "metadata": {},
     "output_type": "execute_result"
    },
    {
     "data": {
      "image/png": "[encoded data removed]",
      "text/plain": [
       "<Figure size 432x288 with 1 Axes>"
      ]
     },
     "metadata": {
      "needs_background": "light"
     },
     "output_type": "display_data"
    }
   ],
   "source": [
    "plt.xlabel('Error Correction Quality', fontsize=12)\n",
    "plt.ylabel('Compression Ratio', fontsize=14)\n",
    "plt.plot(np.asarray(compression_ratios[0])) # Blue curve for Lena\n",
    "plt.plot(np.asarray(compression_ratios[1])) # Orange curve for Parrots\n",
    "plt.plot(np.asarray(compression_ratios[2])) # Green curve for Mandrill"
   ]
  },
  {
   "cell_type": "markdown",
   "metadata": {},
   "source": [
    "#### 6.c) Plot PSNR compared to error correction quality"
   ]
  },
  {
   "cell_type": "code",
   "execution_count": 12,
   "metadata": {},
   "outputs": [
    {
     "data": {
      "text/plain": [
       "[<matplotlib.lines.Line2D at 0x1b790704e10>]"
      ]
     },
     "execution_count": 12,
     "metadata": {},
     "output_type": "execute_result"
    },
    {
     "data": {
      "image/png": "[encoded data removed]",
      "text/plain": [
       "<Figure size 432x288 with 1 Axes>"
      ]
     },
     "metadata": {
      "needs_background": "light"
     },
     "output_type": "display_data"
    }
   ],
   "source": [
    "plt.xlabel('Error Correction Quality', fontsize=12)\n",
    "plt.ylabel('PSNR', fontsize=14)\n",
    "plt.plot(np.asarray(psnrs[0])) # Blue curve for Lena\n",
    "plt.plot(np.asarray(psnrs[1])) # Orange curve for Parrots\n",
    "plt.plot(np.asarray(psnrs[2])) # Green curve for Mandrill"
   ]
  },
  {
   "cell_type": "code",
   "execution_count": null,
   "metadata": {},
   "outputs": [],
   "source": []
  },
  {
   "cell_type": "markdown",
   "metadata": {},
   "source": [
    "#### 6.d) (Lena, Parrots, Mandrill) Plot PSNR compared to Compression ratio with same error correction quality value"
   ]
  },
  {
   "cell_type": "code",
   "execution_count": 48,
   "metadata": {},
   "outputs": [
    {
     "data": {
      "text/plain": [
       "[<matplotlib.lines.Line2D at 0x24dc336ef98>]"
      ]
     },
     "execution_count": 48,
     "metadata": {},
     "output_type": "execute_result"
    },
    {
     "data": {
      "image/png": "[encoded data removed]",
      "text/plain": [
       "<Figure size 432x288 with 1 Axes>"
      ]
     },
     "metadata": {
      "needs_background": "light"
     },
     "output_type": "display_data"
    }
   ],
   "source": [
    "lena_comp_ratios = compression_ratios[0]\n",
    "lena_psnrs = psnrs[0]\n",
    "plt.title(\"LENA\")\n",
    "plt.xlabel('Compression Ratio', fontsize=14)\n",
    "plt.ylabel('PSNR (dB)', fontsize=14)\n",
    "plt.plot(lena_comp_ratios, lena_psnrs)"
   ]
  },
  {
   "cell_type": "code",
   "execution_count": 49,
   "metadata": {},
   "outputs": [
    {
     "data": {
      "text/plain": [
       "[<matplotlib.lines.Line2D at 0x24dc3402860>]"
      ]
     },
     "execution_count": 49,
     "metadata": {},
     "output_type": "execute_result"
    },
    {
     "data": {
      "image/png": "[encoded data removed]",
      "text/plain": [
       "<Figure size 432x288 with 1 Axes>"
      ]
     },
     "metadata": {
      "needs_background": "light"
     },
     "output_type": "display_data"
    }
   ],
   "source": [
    "parrots_comp_ratios = compression_ratios[1]\n",
    "parrots_psnrs = psnrs[1]\n",
    "plt.title(\"PARROTS\")\n",
    "plt.xlabel('Compression Ratio', fontsize=14)\n",
    "plt.ylabel('PSNR (dB)', fontsize=14)\n",
    "plt.plot(parrots_comp_ratios, parrots_psnrs)"
   ]
  },
  {
   "cell_type": "code",
   "execution_count": 50,
   "metadata": {},
   "outputs": [
    {
     "data": {
      "text/plain": [
       "[<matplotlib.lines.Line2D at 0x24dc34bab38>]"
      ]
     },
     "execution_count": 50,
     "metadata": {},
     "output_type": "execute_result"
    },
    {
     "data": {
      "image/png": "[encoded data removed]",
      "text/plain": [
       "<Figure size 432x288 with 1 Axes>"
      ]
     },
     "metadata": {
      "needs_background": "light"
     },
     "output_type": "display_data"
    }
   ],
   "source": [
    "mandrill_comp_ratios = compression_ratios[2]\n",
    "mandrill_psnrs = psnrs[2]\n",
    "plt.title(\"MANDRILL\")\n",
    "plt.xlabel('Compression Ratio', fontsize=14)\n",
    "plt.ylabel('PSNR (dB)', fontsize=14)\n",
    "plt.plot(mandrill_comp_ratios, mandrill_psnrs)"
   ]
  },
  {
   "cell_type": "code",
   "execution_count": null,
   "metadata": {},
   "outputs": [],
   "source": []
  },
  {
   "cell_type": "code",
   "execution_count": null,
   "metadata": {},
   "outputs": [],
   "source": []
  },
  {
   "cell_type": "code",
   "execution_count": null,
   "metadata": {},
   "outputs": [],
   "source": []
  },
  {
   "cell_type": "code",
   "execution_count": null,
   "metadata": {},
   "outputs": [],
   "source": []
  },
  {
   "cell_type": "code",
   "execution_count": null,
   "metadata": {},
   "outputs": [],
   "source": []
  },
  {
   "cell_type": "markdown",
   "metadata": {},
   "source": [
    "### Load compression ratios and psnrs vectors"
   ]
  },
  {
   "cell_type": "code",
   "execution_count": 11,
   "metadata": {},
   "outputs": [],
   "source": [
    "psnrs = np.load(\"psnrs.npy\")\n",
    "compression_ratios = np.load(\"compression_ratios.npy\")"
   ]
  },
  {
   "cell_type": "code",
   "execution_count": null,
   "metadata": {},
   "outputs": [],
   "source": []
  },
  {
   "cell_type": "markdown",
   "metadata": {},
   "source": [
    "### Get and train a new autoencoder instance"
   ]
  },
  {
   "cell_type": "code",
   "execution_count": null,
   "metadata": {},
   "outputs": [],
   "source": [
    "conv_network = network_utils.get_autoencoder()\n",
    "# Training takes 8 hours on NVIDIA GeForce 150MX\n",
    "conv_network = network_utils.fit_network(conv_network)\n",
    "encoder = network_utils.get_encoder()\n",
    "encoder.set_weights(conv_network.get_weights()[0:6] )\n",
    "decoder = network_utils.get_decoder()\n",
    "decoder.set_weights(conv_network.get_weights()[6:] )"
   ]
  }
 ],
 "metadata": {
  "kernelspec": {
   "display_name": "Python 3",
   "language": "python",
   "name": "python3"
  },
  "language_info": {
   "codemirror_mode": {
    "name": "ipython",
    "version": 3
   },
   "file_extension": ".py",
   "mimetype": "text/x-python",
   "name": "python",
   "nbconvert_exporter": "python",
   "pygments_lexer": "ipython3",
   "version": "3.7.3"
  }
 },
 "nbformat": 4,
 "nbformat_minor": 2
}
